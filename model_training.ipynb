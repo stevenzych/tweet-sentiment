{
 "cells": [
  {
   "cell_type": "markdown",
   "metadata": {},
   "source": [
    "# Introduction"
   ]
  },
  {
   "cell_type": "markdown",
   "metadata": {},
   "source": [
    "This notebook uses Twitter data found [here](https://data.world/crowdflower/brands-and-product-emotions) for natural language processing, with the goal of **predicting the sentiment of a tweet.** It follows the basic format of loading, cleaning, and preprocessing data. The data is then fed into **seven machine learning models** with varying architectures. A final validation accuracy of **70.41%** is achieved."
   ]
  },
  {
   "cell_type": "markdown",
   "metadata": {},
   "source": [
    "## Packages"
   ]
  },
  {
   "cell_type": "code",
   "execution_count": 1,
   "metadata": {},
   "outputs": [
    {
     "name": "stderr",
     "output_type": "stream",
     "text": [
      "Using TensorFlow backend.\n"
     ]
    }
   ],
   "source": [
    "import pandas as pd\n",
    "pd.set_option(\"max_columns\", None)\n",
    "\n",
    "import numpy as np\n",
    "np.random.seed(0)\n",
    "\n",
    "import nltk\n",
    "from nltk.corpus import stopwords\n",
    "stop_words = stopwords.words('english')\n",
    "\n",
    "from keras.preprocessing.sequence import pad_sequences\n",
    "from keras.layers import Input, Dense, LSTM, Embedding\n",
    "from keras.layers import Dropout, Activation, Bidirectional, GlobalMaxPool1D, GlobalAveragePooling1D\n",
    "from keras.models import Sequential\n",
    "from keras import initializers, regularizers, constraints, optimizers, layers\n",
    "from keras.preprocessing import text, sequence\n",
    "\n",
    "from sklearn.model_selection import train_test_split\n",
    "\n",
    "import re\n",
    "\n",
    "import string\n",
    "\n",
    "from collections import Counter\n",
    "\n",
    "import matplotlib.pyplot as plt\n",
    "%matplotlib inline"
   ]
  },
  {
   "cell_type": "markdown",
   "metadata": {},
   "source": [
    "## Preview Data"
   ]
  },
  {
   "cell_type": "markdown",
   "metadata": {},
   "source": [
    "Let's take a basic look at the data. It's obvious here that some **personal information still needs to be scrubbed,** such as usernames. Moreover, there's a lot of superfluous **punctuation** and use of **hashtags** that we need to filter out before tokenizing the tweets. Lastly, **URL's** need to be removed, as they carry no semantic information."
   ]
  },
  {
   "cell_type": "code",
   "execution_count": 2,
   "metadata": {},
   "outputs": [
    {
     "name": "stdout",
     "output_type": "stream",
     "text": [
      "(8721, 3)\n"
     ]
    },
    {
     "data": {
      "text/html": [
       "<div>\n",
       "<style scoped>\n",
       "    .dataframe tbody tr th:only-of-type {\n",
       "        vertical-align: middle;\n",
       "    }\n",
       "\n",
       "    .dataframe tbody tr th {\n",
       "        vertical-align: top;\n",
       "    }\n",
       "\n",
       "    .dataframe thead th {\n",
       "        text-align: right;\n",
       "    }\n",
       "</style>\n",
       "<table border=\"1\" class=\"dataframe\">\n",
       "  <thead>\n",
       "    <tr style=\"text-align: right;\">\n",
       "      <th></th>\n",
       "      <th>tweet_text</th>\n",
       "      <th>emotion_in_tweet_is_directed_at</th>\n",
       "      <th>is_there_an_emotion_directed_at_a_brand_or_product</th>\n",
       "    </tr>\n",
       "  </thead>\n",
       "  <tbody>\n",
       "    <tr>\n",
       "      <td>0</td>\n",
       "      <td>.@wesley83 I have a 3G iPhone. After 3 hrs twe...</td>\n",
       "      <td>iPhone</td>\n",
       "      <td>Negative emotion</td>\n",
       "    </tr>\n",
       "    <tr>\n",
       "      <td>1</td>\n",
       "      <td>@jessedee Know about @fludapp ? Awesome iPad/i...</td>\n",
       "      <td>iPad or iPhone App</td>\n",
       "      <td>Positive emotion</td>\n",
       "    </tr>\n",
       "    <tr>\n",
       "      <td>2</td>\n",
       "      <td>@swonderlin Can not wait for #iPad 2 also. The...</td>\n",
       "      <td>iPad</td>\n",
       "      <td>Positive emotion</td>\n",
       "    </tr>\n",
       "    <tr>\n",
       "      <td>3</td>\n",
       "      <td>@sxsw I hope this year's festival isn't as cra...</td>\n",
       "      <td>iPad or iPhone App</td>\n",
       "      <td>Negative emotion</td>\n",
       "    </tr>\n",
       "    <tr>\n",
       "      <td>4</td>\n",
       "      <td>@sxtxstate great stuff on Fri #SXSW: Marissa M...</td>\n",
       "      <td>Google</td>\n",
       "      <td>Positive emotion</td>\n",
       "    </tr>\n",
       "    <tr>\n",
       "      <td>5</td>\n",
       "      <td>@teachntech00 New iPad Apps For #SpeechTherapy...</td>\n",
       "      <td>NaN</td>\n",
       "      <td>No emotion toward brand or product</td>\n",
       "    </tr>\n",
       "    <tr>\n",
       "      <td>6</td>\n",
       "      <td>NaN</td>\n",
       "      <td>NaN</td>\n",
       "      <td>No emotion toward brand or product</td>\n",
       "    </tr>\n",
       "    <tr>\n",
       "      <td>7</td>\n",
       "      <td>#SXSW is just starting, #CTIA is around the co...</td>\n",
       "      <td>Android</td>\n",
       "      <td>Positive emotion</td>\n",
       "    </tr>\n",
       "    <tr>\n",
       "      <td>8</td>\n",
       "      <td>Beautifully smart and simple idea RT @madebyma...</td>\n",
       "      <td>iPad or iPhone App</td>\n",
       "      <td>Positive emotion</td>\n",
       "    </tr>\n",
       "    <tr>\n",
       "      <td>9</td>\n",
       "      <td>Counting down the days to #sxsw plus strong Ca...</td>\n",
       "      <td>Apple</td>\n",
       "      <td>Positive emotion</td>\n",
       "    </tr>\n",
       "  </tbody>\n",
       "</table>\n",
       "</div>"
      ],
      "text/plain": [
       "                                          tweet_text  \\\n",
       "0  .@wesley83 I have a 3G iPhone. After 3 hrs twe...   \n",
       "1  @jessedee Know about @fludapp ? Awesome iPad/i...   \n",
       "2  @swonderlin Can not wait for #iPad 2 also. The...   \n",
       "3  @sxsw I hope this year's festival isn't as cra...   \n",
       "4  @sxtxstate great stuff on Fri #SXSW: Marissa M...   \n",
       "5  @teachntech00 New iPad Apps For #SpeechTherapy...   \n",
       "6                                                NaN   \n",
       "7  #SXSW is just starting, #CTIA is around the co...   \n",
       "8  Beautifully smart and simple idea RT @madebyma...   \n",
       "9  Counting down the days to #sxsw plus strong Ca...   \n",
       "\n",
       "  emotion_in_tweet_is_directed_at  \\\n",
       "0                          iPhone   \n",
       "1              iPad or iPhone App   \n",
       "2                            iPad   \n",
       "3              iPad or iPhone App   \n",
       "4                          Google   \n",
       "5                             NaN   \n",
       "6                             NaN   \n",
       "7                         Android   \n",
       "8              iPad or iPhone App   \n",
       "9                           Apple   \n",
       "\n",
       "  is_there_an_emotion_directed_at_a_brand_or_product  \n",
       "0                                   Negative emotion  \n",
       "1                                   Positive emotion  \n",
       "2                                   Positive emotion  \n",
       "3                                   Negative emotion  \n",
       "4                                   Positive emotion  \n",
       "5                 No emotion toward brand or product  \n",
       "6                 No emotion toward brand or product  \n",
       "7                                   Positive emotion  \n",
       "8                                   Positive emotion  \n",
       "9                                   Positive emotion  "
      ]
     },
     "execution_count": 2,
     "metadata": {},
     "output_type": "execute_result"
    }
   ],
   "source": [
    "df = pd.read_csv('data/judge_1377884607_tweet_product_company.csv')\n",
    "print(df.shape)\n",
    "df.head(10)"
   ]
  },
  {
   "cell_type": "markdown",
   "metadata": {},
   "source": [
    "# Basic DF Cleaning"
   ]
  },
  {
   "cell_type": "markdown",
   "metadata": {},
   "source": [
    "## Renaming Columns"
   ]
  },
  {
   "cell_type": "markdown",
   "metadata": {},
   "source": [
    "Columns are given easier-to-call names."
   ]
  },
  {
   "cell_type": "code",
   "execution_count": 3,
   "metadata": {},
   "outputs": [
    {
     "data": {
      "text/html": [
       "<div>\n",
       "<style scoped>\n",
       "    .dataframe tbody tr th:only-of-type {\n",
       "        vertical-align: middle;\n",
       "    }\n",
       "\n",
       "    .dataframe tbody tr th {\n",
       "        vertical-align: top;\n",
       "    }\n",
       "\n",
       "    .dataframe thead th {\n",
       "        text-align: right;\n",
       "    }\n",
       "</style>\n",
       "<table border=\"1\" class=\"dataframe\">\n",
       "  <thead>\n",
       "    <tr style=\"text-align: right;\">\n",
       "      <th></th>\n",
       "      <th>text</th>\n",
       "      <th>directed_at</th>\n",
       "      <th>emotion</th>\n",
       "    </tr>\n",
       "  </thead>\n",
       "  <tbody>\n",
       "    <tr>\n",
       "      <td>0</td>\n",
       "      <td>.@wesley83 I have a 3G iPhone. After 3 hrs twe...</td>\n",
       "      <td>iPhone</td>\n",
       "      <td>Negative emotion</td>\n",
       "    </tr>\n",
       "    <tr>\n",
       "      <td>1</td>\n",
       "      <td>@jessedee Know about @fludapp ? Awesome iPad/i...</td>\n",
       "      <td>iPad or iPhone App</td>\n",
       "      <td>Positive emotion</td>\n",
       "    </tr>\n",
       "    <tr>\n",
       "      <td>2</td>\n",
       "      <td>@swonderlin Can not wait for #iPad 2 also. The...</td>\n",
       "      <td>iPad</td>\n",
       "      <td>Positive emotion</td>\n",
       "    </tr>\n",
       "    <tr>\n",
       "      <td>3</td>\n",
       "      <td>@sxsw I hope this year's festival isn't as cra...</td>\n",
       "      <td>iPad or iPhone App</td>\n",
       "      <td>Negative emotion</td>\n",
       "    </tr>\n",
       "    <tr>\n",
       "      <td>4</td>\n",
       "      <td>@sxtxstate great stuff on Fri #SXSW: Marissa M...</td>\n",
       "      <td>Google</td>\n",
       "      <td>Positive emotion</td>\n",
       "    </tr>\n",
       "  </tbody>\n",
       "</table>\n",
       "</div>"
      ],
      "text/plain": [
       "                                                text         directed_at  \\\n",
       "0  .@wesley83 I have a 3G iPhone. After 3 hrs twe...              iPhone   \n",
       "1  @jessedee Know about @fludapp ? Awesome iPad/i...  iPad or iPhone App   \n",
       "2  @swonderlin Can not wait for #iPad 2 also. The...                iPad   \n",
       "3  @sxsw I hope this year's festival isn't as cra...  iPad or iPhone App   \n",
       "4  @sxtxstate great stuff on Fri #SXSW: Marissa M...              Google   \n",
       "\n",
       "            emotion  \n",
       "0  Negative emotion  \n",
       "1  Positive emotion  \n",
       "2  Positive emotion  \n",
       "3  Negative emotion  \n",
       "4  Positive emotion  "
      ]
     },
     "execution_count": 3,
     "metadata": {},
     "output_type": "execute_result"
    }
   ],
   "source": [
    "df.rename(columns={'tweet_text' : 'text',\n",
    "                   'is_there_an_emotion_directed_at_a_brand_or_product' : 'emotion',\n",
    "                   'emotion_in_tweet_is_directed_at' : 'directed_at'},\n",
    "          inplace=True)\n",
    "\n",
    "df.head()"
   ]
  },
  {
   "cell_type": "markdown",
   "metadata": {},
   "source": [
    "## Dropping NaNs"
   ]
  },
  {
   "cell_type": "markdown",
   "metadata": {},
   "source": [
    "Lucky we only have one tweet with no content!"
   ]
  },
  {
   "cell_type": "code",
   "execution_count": 4,
   "metadata": {},
   "outputs": [
    {
     "data": {
      "text/plain": [
       "text              1\n",
       "directed_at    5552\n",
       "emotion           0\n",
       "dtype: int64"
      ]
     },
     "execution_count": 4,
     "metadata": {},
     "output_type": "execute_result"
    }
   ],
   "source": [
    "df.isna().sum()"
   ]
  },
  {
   "cell_type": "code",
   "execution_count": 5,
   "metadata": {},
   "outputs": [],
   "source": [
    "df.dropna(subset = ['text'], inplace = True)"
   ]
  },
  {
   "cell_type": "markdown",
   "metadata": {},
   "source": [
    "It's worth noting that I'm **not replacing NaN's if emotion is undirected.** This column is only being used in the other notebook for data visualization. It will be dropped for machine learning."
   ]
  },
  {
   "cell_type": "markdown",
   "metadata": {},
   "source": [
    "## Dropping Column"
   ]
  },
  {
   "cell_type": "code",
   "execution_count": 8,
   "metadata": {},
   "outputs": [],
   "source": [
    "df.drop(\"directed_at\", axis=1, inplace=True)"
   ]
  },
  {
   "cell_type": "markdown",
   "metadata": {},
   "source": [
    "## Dropping `\"I can't tell\"` Target Values"
   ]
  },
  {
   "cell_type": "markdown",
   "metadata": {},
   "source": [
    "Emotion listed as `\"I can't tell\"` is **completely useless** as a training value."
   ]
  },
  {
   "cell_type": "code",
   "execution_count": 7,
   "metadata": {},
   "outputs": [],
   "source": [
    "df = df[df.emotion != \"I can't tell\"]"
   ]
  },
  {
   "cell_type": "markdown",
   "metadata": {},
   "source": [
    "# Tokenization"
   ]
  },
  {
   "cell_type": "markdown",
   "metadata": {},
   "source": [
    "The following process creates a DataFrame of cleaned and tokenized tweets. Each tweet is replaced with a list of tokens. There are no user handles, hashtags, or web addresses. Punctuation and stopwords have also been removed."
   ]
  },
  {
   "cell_type": "code",
   "execution_count": 9,
   "metadata": {},
   "outputs": [],
   "source": [
    "def basic_clean(text):\n",
    "    stop_words = stopwords.words(\"english\")\n",
    "    \n",
    "    text = re.sub('@\\S+', '', text)\n",
    "    text = re.sub('http\\S+', '', text)\n",
    "    text = re.sub('#\\S+', '', text)\n",
    "    for i in string.punctuation:\n",
    "        text = text.replace(i, '').lower()\n",
    "    \n",
    "    tokens = nltk.word_tokenize(text)\n",
    "    new_tokens = []\n",
    "    for token in tokens:\n",
    "        if token.lower() not in stop_words:\n",
    "            new_tokens.append(token)\n",
    "            \n",
    "    return new_tokens"
   ]
  },
  {
   "cell_type": "code",
   "execution_count": 10,
   "metadata": {},
   "outputs": [],
   "source": [
    "df_clean = df.copy()"
   ]
  },
  {
   "cell_type": "code",
   "execution_count": 11,
   "metadata": {},
   "outputs": [],
   "source": [
    "for i in range(len(df_clean)):\n",
    "    df_clean.iloc[i].text = basic_clean(df_clean.iloc[i].text)"
   ]
  },
  {
   "cell_type": "code",
   "execution_count": 12,
   "metadata": {},
   "outputs": [
    {
     "data": {
      "text/html": [
       "<div>\n",
       "<style scoped>\n",
       "    .dataframe tbody tr th:only-of-type {\n",
       "        vertical-align: middle;\n",
       "    }\n",
       "\n",
       "    .dataframe tbody tr th {\n",
       "        vertical-align: top;\n",
       "    }\n",
       "\n",
       "    .dataframe thead th {\n",
       "        text-align: right;\n",
       "    }\n",
       "</style>\n",
       "<table border=\"1\" class=\"dataframe\">\n",
       "  <thead>\n",
       "    <tr style=\"text-align: right;\">\n",
       "      <th></th>\n",
       "      <th>text</th>\n",
       "      <th>emotion</th>\n",
       "    </tr>\n",
       "  </thead>\n",
       "  <tbody>\n",
       "    <tr>\n",
       "      <td>0</td>\n",
       "      <td>[3g, iphone, 3, hrs, tweeting, dead, need, upg...</td>\n",
       "      <td>Negative emotion</td>\n",
       "    </tr>\n",
       "    <tr>\n",
       "      <td>1</td>\n",
       "      <td>[know, awesome, ipadiphone, app, youll, likely...</td>\n",
       "      <td>Positive emotion</td>\n",
       "    </tr>\n",
       "    <tr>\n",
       "      <td>2</td>\n",
       "      <td>[wait, 2, also, sale]</td>\n",
       "      <td>Positive emotion</td>\n",
       "    </tr>\n",
       "    <tr>\n",
       "      <td>3</td>\n",
       "      <td>[hope, years, festival, isnt, crashy, years, i...</td>\n",
       "      <td>Negative emotion</td>\n",
       "    </tr>\n",
       "    <tr>\n",
       "      <td>4</td>\n",
       "      <td>[great, stuff, fri, marissa, mayer, google, ti...</td>\n",
       "      <td>Positive emotion</td>\n",
       "    </tr>\n",
       "  </tbody>\n",
       "</table>\n",
       "</div>"
      ],
      "text/plain": [
       "                                                text           emotion\n",
       "0  [3g, iphone, 3, hrs, tweeting, dead, need, upg...  Negative emotion\n",
       "1  [know, awesome, ipadiphone, app, youll, likely...  Positive emotion\n",
       "2                              [wait, 2, also, sale]  Positive emotion\n",
       "3  [hope, years, festival, isnt, crashy, years, i...  Negative emotion\n",
       "4  [great, stuff, fri, marissa, mayer, google, ti...  Positive emotion"
      ]
     },
     "execution_count": 12,
     "metadata": {},
     "output_type": "execute_result"
    }
   ],
   "source": [
    "df_clean.head()"
   ]
  },
  {
   "cell_type": "markdown",
   "metadata": {},
   "source": [
    "# Target And Data"
   ]
  },
  {
   "cell_type": "markdown",
   "metadata": {},
   "source": [
    "Here we are simply splitting the trainable data from the target values."
   ]
  },
  {
   "cell_type": "code",
   "execution_count": 13,
   "metadata": {},
   "outputs": [],
   "source": [
    "target = df_clean['emotion']"
   ]
  },
  {
   "cell_type": "code",
   "execution_count": 14,
   "metadata": {},
   "outputs": [],
   "source": [
    "data = df_clean['text']"
   ]
  },
  {
   "cell_type": "markdown",
   "metadata": {},
   "source": [
    "# Total Vocab"
   ]
  },
  {
   "cell_type": "markdown",
   "metadata": {},
   "source": [
    "And here we're just taking a look at how many unique words we have, mostly just out of curiosity.\n",
    "\n",
    "> From a linguistics standpoint, Twitter produces an interesting case of \"word\" count, since many of the lexemes used in tweets **wouldn't be considered proper \"words\"** by the more prescriptive among us. *(Yuck!)* Moreover, spelling isn't standardized, since users can input anything they want. I could tweet `\"Achachach habuthey Chewbaquito\"` and that would add `+3` to `total_vocabulary`, despite having ***no semantic value*** to probably anyone. Just some NLP food for thought. Also, it's a **reason stemming and lemmatization weren't used here,** since standard forms of words may not be present to transform in the first place."
   ]
  },
  {
   "cell_type": "code",
   "execution_count": 16,
   "metadata": {},
   "outputs": [],
   "source": [
    "total_vocabulary = set(word for text in data for word in text)"
   ]
  },
  {
   "cell_type": "code",
   "execution_count": 17,
   "metadata": {},
   "outputs": [
    {
     "data": {
      "text/plain": [
       "9398"
      ]
     },
     "execution_count": 17,
     "metadata": {},
     "output_type": "execute_result"
    }
   ],
   "source": [
    "len(total_vocabulary)"
   ]
  },
  {
   "cell_type": "markdown",
   "metadata": {},
   "source": [
    "# Model Prep"
   ]
  },
  {
   "cell_type": "markdown",
   "metadata": {},
   "source": [
    "Splitting the target values into dummies."
   ]
  },
  {
   "cell_type": "code",
   "execution_count": 24,
   "metadata": {},
   "outputs": [],
   "source": [
    "y = pd.get_dummies(target).values"
   ]
  },
  {
   "cell_type": "markdown",
   "metadata": {},
   "source": [
    "Tokenizing and preprocessing tweets."
   ]
  },
  {
   "cell_type": "code",
   "execution_count": 25,
   "metadata": {},
   "outputs": [],
   "source": [
    "tokenizer = text.Tokenizer(num_words=9398)\n",
    "tokenizer.fit_on_texts(list(df_clean['text']))\n",
    "list_tokenized_tweets = tokenizer.texts_to_sequences(df_clean['text'])\n",
    "X_t = sequence.pad_sequences(list_tokenized_tweets, maxlen=100)"
   ]
  },
  {
   "cell_type": "markdown",
   "metadata": {},
   "source": [
    "Test-train split on the target values and tokenized data."
   ]
  },
  {
   "cell_type": "code",
   "execution_count": 26,
   "metadata": {},
   "outputs": [],
   "source": [
    "X_train, X_test, y_train, y_test = train_test_split(X_t, y, test_size = 0.2, random_state=0)"
   ]
  },
  {
   "cell_type": "markdown",
   "metadata": {},
   "source": [
    "# Model Training"
   ]
  },
  {
   "cell_type": "markdown",
   "metadata": {},
   "source": [
    "## Visualization Function"
   ]
  },
  {
   "cell_type": "markdown",
   "metadata": {},
   "source": [
    "This visualization function was used to easily **track all model's performances.** It plots **accuracy and loss** for both the training and validation sets. Examples will follow in the modeling sections."
   ]
  },
  {
   "cell_type": "code",
   "execution_count": 32,
   "metadata": {},
   "outputs": [],
   "source": [
    "def visualize_training_results(results):\n",
    "    history = results.history\n",
    "    plt.figure()\n",
    "    plt.plot(history['val_loss'])\n",
    "    plt.plot(history['loss'])\n",
    "    plt.legend(['val_loss', 'loss'])\n",
    "    plt.title('Loss')\n",
    "    plt.xlabel('Epochs')\n",
    "    plt.ylabel('Loss')\n",
    "    plt.show()\n",
    "    \n",
    "    plt.figure()\n",
    "    plt.plot(history['val_acc'])\n",
    "    plt.plot(history['acc'])\n",
    "    plt.legend(['val_acc', 'acc'])\n",
    "    plt.title('Accuracy')\n",
    "    plt.xlabel('Epochs')\n",
    "    plt.ylabel('Accuracy')\n",
    "    plt.show()"
   ]
  },
  {
   "cell_type": "markdown",
   "metadata": {},
   "source": [
    "## Model 1"
   ]
  },
  {
   "cell_type": "markdown",
   "metadata": {},
   "source": [
    "For the models, I used an embedding layer, followed by an LSTM (long short term memory) and some global pooling, to reduce complexity. Different amounts, sizes, and dropout-rates-of dense layers were tried out. That was the **general structure of all models.**"
   ]
  },
  {
   "cell_type": "code",
   "execution_count": 27,
   "metadata": {},
   "outputs": [],
   "source": [
    "model = Sequential()"
   ]
  },
  {
   "cell_type": "code",
   "execution_count": 28,
   "metadata": {},
   "outputs": [],
   "source": [
    "embedding_size = 128\n",
    "model.add(Embedding(9398, embedding_size))\n",
    "model.add(LSTM(25, return_sequences=True))\n",
    "model.add(GlobalMaxPool1D())\n",
    "model.add(Dropout(0.5))\n",
    "model.add(Dense(50, activation='relu'))\n",
    "model.add(Dropout(0.5))\n",
    "model.add(Dense(3, activation='softmax'))"
   ]
  },
  {
   "cell_type": "code",
   "execution_count": 29,
   "metadata": {},
   "outputs": [],
   "source": [
    "model.compile(loss='categorical_crossentropy', \n",
    "              optimizer='adam', \n",
    "              metrics=['accuracy'])"
   ]
  },
  {
   "cell_type": "code",
   "execution_count": 30,
   "metadata": {},
   "outputs": [
    {
     "name": "stdout",
     "output_type": "stream",
     "text": [
      "_________________________________________________________________\n",
      "Layer (type)                 Output Shape              Param #   \n",
      "=================================================================\n",
      "embedding_1 (Embedding)      (None, None, 128)         1202944   \n",
      "_________________________________________________________________\n",
      "lstm_1 (LSTM)                (None, None, 25)          15400     \n",
      "_________________________________________________________________\n",
      "global_max_pooling1d_1 (Glob (None, 25)                0         \n",
      "_________________________________________________________________\n",
      "dropout_1 (Dropout)          (None, 25)                0         \n",
      "_________________________________________________________________\n",
      "dense_1 (Dense)              (None, 50)                1300      \n",
      "_________________________________________________________________\n",
      "dropout_2 (Dropout)          (None, 50)                0         \n",
      "_________________________________________________________________\n",
      "dense_2 (Dense)              (None, 3)                 153       \n",
      "=================================================================\n",
      "Total params: 1,219,797\n",
      "Trainable params: 1,219,797\n",
      "Non-trainable params: 0\n",
      "_________________________________________________________________\n"
     ]
    }
   ],
   "source": [
    "model.summary()"
   ]
  },
  {
   "cell_type": "code",
   "execution_count": 31,
   "metadata": {},
   "outputs": [
    {
     "name": "stdout",
     "output_type": "stream",
     "text": [
      "Train on 6169 samples, validate on 686 samples\n",
      "Epoch 1/15\n",
      "6169/6169 [==============================] - 21s 3ms/step - loss: 0.9175 - acc: 0.5364 - val_loss: 0.8151 - val_acc: 0.6195\n",
      "Epoch 2/15\n",
      "6169/6169 [==============================] - 21s 3ms/step - loss: 0.7901 - acc: 0.6461 - val_loss: 0.7198 - val_acc: 0.6545\n",
      "Epoch 3/15\n",
      "6169/6169 [==============================] - 20s 3ms/step - loss: 0.6123 - acc: 0.7552 - val_loss: 0.7083 - val_acc: 0.6764\n",
      "Epoch 4/15\n",
      "6169/6169 [==============================] - 21s 3ms/step - loss: 0.4588 - acc: 0.8227 - val_loss: 0.7676 - val_acc: 0.6837\n",
      "Epoch 5/15\n",
      "6169/6169 [==============================] - 21s 3ms/step - loss: 0.3632 - acc: 0.8666 - val_loss: 0.8577 - val_acc: 0.6924\n",
      "Epoch 6/15\n",
      "6169/6169 [==============================] - 21s 3ms/step - loss: 0.2995 - acc: 0.8896 - val_loss: 0.9607 - val_acc: 0.6764\n",
      "Epoch 7/15\n",
      "6169/6169 [==============================] - 21s 3ms/step - loss: 0.2669 - acc: 0.9026 - val_loss: 1.0496 - val_acc: 0.6662\n",
      "Epoch 8/15\n",
      "6169/6169 [==============================] - 21s 3ms/step - loss: 0.2377 - acc: 0.9133 - val_loss: 1.1087 - val_acc: 0.6939\n",
      "Epoch 9/15\n",
      "6169/6169 [==============================] - 21s 3ms/step - loss: 0.2191 - acc: 0.9146 - val_loss: 1.2949 - val_acc: 0.6735\n",
      "Epoch 10/15\n",
      "6169/6169 [==============================] - 20s 3ms/step - loss: 0.1947 - acc: 0.9245 - val_loss: 1.3767 - val_acc: 0.6735\n",
      "Epoch 11/15\n",
      "6169/6169 [==============================] - 20s 3ms/step - loss: 0.1910 - acc: 0.9206 - val_loss: 1.5554 - val_acc: 0.6953\n",
      "Epoch 12/15\n",
      "6169/6169 [==============================] - 20s 3ms/step - loss: 0.1751 - acc: 0.9293 - val_loss: 1.6211 - val_acc: 0.6822\n",
      "Epoch 13/15\n",
      "6169/6169 [==============================] - 20s 3ms/step - loss: 0.1651 - acc: 0.9327 - val_loss: 1.7229 - val_acc: 0.6822\n",
      "Epoch 14/15\n",
      "6169/6169 [==============================] - 20s 3ms/step - loss: 0.1655 - acc: 0.9322 - val_loss: 1.8997 - val_acc: 0.6822\n",
      "Epoch 15/15\n",
      "6169/6169 [==============================] - 20s 3ms/step - loss: 0.1558 - acc: 0.9350 - val_loss: 1.8384 - val_acc: 0.6706\n"
     ]
    }
   ],
   "source": [
    "results = model.fit(X_train, y_train, epochs=15, batch_size=32, validation_split=0.1)"
   ]
  },
  {
   "cell_type": "code",
   "execution_count": 33,
   "metadata": {},
   "outputs": [
    {
     "data": {
      "image/png": "[encoded data removed]",
      "text/plain": [
       "<Figure size 432x288 with 1 Axes>"
      ]
     },
     "metadata": {
      "needs_background": "light"
     },
     "output_type": "display_data"
    },
    {
     "data": {
      "image/png": "[encoded data removed]",
      "text/plain": [
       "<Figure size 432x288 with 1 Axes>"
      ]
     },
     "metadata": {
      "needs_background": "light"
     },
     "output_type": "display_data"
    }
   ],
   "source": [
    "visualize_training_results(results)"
   ]
  },
  {
   "cell_type": "markdown",
   "metadata": {},
   "source": [
    "## Model 2"
   ]
  },
  {
   "cell_type": "markdown",
   "metadata": {},
   "source": [
    "For this model, these changes were made:\n",
    "- Another Dense layer was added\n",
    "- Dropout was reduced to 0.2\n",
    "- Embedding output size was reduced to 50"
   ]
  },
  {
   "cell_type": "code",
   "execution_count": 34,
   "metadata": {},
   "outputs": [],
   "source": [
    "model_2 = Sequential()"
   ]
  },
  {
   "cell_type": "code",
   "execution_count": 35,
   "metadata": {},
   "outputs": [],
   "source": [
    "embedding_size = 50\n",
    "model_2.add(Embedding(9398, embedding_size))\n",
    "model_2.add(LSTM(25, return_sequences=True))\n",
    "model_2.add(GlobalMaxPool1D())\n",
    "model_2.add(Dropout(0.2))\n",
    "model_2.add(Dense(100, activation='relu'))\n",
    "model_2.add(Dropout(0.2))\n",
    "model_2.add(Dense(50, activation='relu'))\n",
    "model_2.add(Dropout(0.2))\n",
    "model_2.add(Dense(3, activation='softmax'))"
   ]
  },
  {
   "cell_type": "code",
   "execution_count": 36,
   "metadata": {},
   "outputs": [],
   "source": [
    "model_2.compile(loss='categorical_crossentropy', \n",
    "              optimizer='adam', \n",
    "              metrics=['accuracy'])"
   ]
  },
  {
   "cell_type": "code",
   "execution_count": 37,
   "metadata": {},
   "outputs": [
    {
     "name": "stdout",
     "output_type": "stream",
     "text": [
      "Train on 5484 samples, validate on 1371 samples\n",
      "Epoch 1/15\n",
      "5484/5484 [==============================] - 15s 3ms/step - loss: 0.8683 - acc: 0.6021 - val_loss: 0.8077 - val_acc: 0.6003\n",
      "Epoch 2/15\n",
      "5484/5484 [==============================] - 15s 3ms/step - loss: 0.7758 - acc: 0.6295 - val_loss: 0.7613 - val_acc: 0.6455\n",
      "Epoch 3/15\n",
      "5484/5484 [==============================] - 15s 3ms/step - loss: 0.6188 - acc: 0.7482 - val_loss: 0.7496 - val_acc: 0.6506\n",
      "Epoch 4/15\n",
      "5484/5484 [==============================] - 15s 3ms/step - loss: 0.4476 - acc: 0.8293 - val_loss: 0.7899 - val_acc: 0.6761\n",
      "Epoch 5/15\n",
      "5484/5484 [==============================] - 15s 3ms/step - loss: 0.3233 - acc: 0.8820 - val_loss: 0.8812 - val_acc: 0.6586\n",
      "Epoch 6/15\n",
      "5484/5484 [==============================] - 15s 3ms/step - loss: 0.2542 - acc: 0.9081 - val_loss: 0.9793 - val_acc: 0.6710\n",
      "Epoch 7/15\n",
      "5484/5484 [==============================] - 15s 3ms/step - loss: 0.2150 - acc: 0.9185 - val_loss: 1.0698 - val_acc: 0.6761\n",
      "Epoch 8/15\n",
      "5484/5484 [==============================] - 15s 3ms/step - loss: 0.1969 - acc: 0.9256 - val_loss: 1.0992 - val_acc: 0.6710\n",
      "Epoch 9/15\n",
      "5484/5484 [==============================] - 15s 3ms/step - loss: 0.1691 - acc: 0.9334 - val_loss: 1.2471 - val_acc: 0.6645\n",
      "Epoch 10/15\n",
      "5484/5484 [==============================] - 15s 3ms/step - loss: 0.1655 - acc: 0.9334 - val_loss: 1.2813 - val_acc: 0.6652\n",
      "Epoch 11/15\n",
      "5484/5484 [==============================] - 15s 3ms/step - loss: 0.1485 - acc: 0.9356 - val_loss: 1.3963 - val_acc: 0.6667\n",
      "Epoch 12/15\n",
      "5484/5484 [==============================] - 15s 3ms/step - loss: 0.1344 - acc: 0.9427 - val_loss: 1.4838 - val_acc: 0.6689\n",
      "Epoch 13/15\n",
      "5484/5484 [==============================] - 15s 3ms/step - loss: 0.1344 - acc: 0.9446 - val_loss: 1.6931 - val_acc: 0.6557\n",
      "Epoch 14/15\n",
      "5484/5484 [==============================] - 15s 3ms/step - loss: 0.1223 - acc: 0.9464 - val_loss: 1.6911 - val_acc: 0.6543\n",
      "Epoch 15/15\n",
      "5484/5484 [==============================] - 15s 3ms/step - loss: 0.1192 - acc: 0.9458 - val_loss: 1.8854 - val_acc: 0.6557\n"
     ]
    }
   ],
   "source": [
    "results_2 = model_2.fit(X_train, y_train, epochs=15, batch_size=32, validation_split=0.2)"
   ]
  },
  {
   "cell_type": "code",
   "execution_count": 38,
   "metadata": {},
   "outputs": [
    {
     "data": {
      "image/png": "[encoded data removed]",
      "text/plain": [
       "<Figure size 432x288 with 1 Axes>"
      ]
     },
     "metadata": {
      "needs_background": "light"
     },
     "output_type": "display_data"
    },
    {
     "data": {
      "image/png": "[encoded data removed]",
      "text/plain": [
       "<Figure size 432x288 with 1 Axes>"
      ]
     },
     "metadata": {
      "needs_background": "light"
     },
     "output_type": "display_data"
    }
   ],
   "source": [
    "visualize_training_results(results_2)"
   ]
  },
  {
   "cell_type": "markdown",
   "metadata": {},
   "source": [
    "## Model 3"
   ]
  },
  {
   "cell_type": "markdown",
   "metadata": {},
   "source": [
    "This next network was drastically smaller to see if that beat out the overfitting.\n",
    "\n",
    "Changes for this model:\n",
    "- Remove a Dense layer\n",
    "- Increase dropout\n",
    "- Add a L2 regularization to Dense\n",
    "- Change Dense activation to Tanh\n",
    "- Embedding size to 100 (between first and second model values)"
   ]
  },
  {
   "cell_type": "code",
   "execution_count": 39,
   "metadata": {},
   "outputs": [],
   "source": [
    "model_3 = Sequential()"
   ]
  },
  {
   "cell_type": "code",
   "execution_count": 40,
   "metadata": {},
   "outputs": [],
   "source": [
    "embedding_size = 100\n",
    "lambda_coeff = 0.01\n",
    "model_3.add(Embedding(9398, embedding_size))\n",
    "model_3.add(LSTM(25, return_sequences=True))\n",
    "model_3.add(GlobalMaxPool1D())\n",
    "model_3.add(Dropout(0.6))\n",
    "model_3.add(Dense(50, activation='tanh', kernel_regularizer=regularizers.l2(lambda_coeff)))\n",
    "model_3.add(Dropout(0.6))\n",
    "model_3.add(Dense(3, activation='softmax'))"
   ]
  },
  {
   "cell_type": "code",
   "execution_count": 41,
   "metadata": {},
   "outputs": [],
   "source": [
    "model_3.compile(loss='categorical_crossentropy', \n",
    "                optimizer='adam', \n",
    "                metrics=['accuracy'])"
   ]
  },
  {
   "cell_type": "code",
   "execution_count": 42,
   "metadata": {},
   "outputs": [
    {
     "name": "stdout",
     "output_type": "stream",
     "text": [
      "Train on 5484 samples, validate on 1371 samples\n",
      "Epoch 1/15\n",
      "5484/5484 [==============================] - 19s 3ms/step - loss: 1.0846 - acc: 0.5784 - val_loss: 0.9222 - val_acc: 0.6003\n",
      "Epoch 2/15\n",
      "5484/5484 [==============================] - 18s 3ms/step - loss: 0.8901 - acc: 0.6063 - val_loss: 0.8153 - val_acc: 0.6295\n",
      "Epoch 3/15\n",
      "5484/5484 [==============================] - 18s 3ms/step - loss: 0.7527 - acc: 0.6924 - val_loss: 0.7707 - val_acc: 0.6579\n",
      "Epoch 4/15\n",
      "5484/5484 [==============================] - 18s 3ms/step - loss: 0.6003 - acc: 0.7783 - val_loss: 0.7867 - val_acc: 0.6732\n",
      "Epoch 5/15\n",
      "5484/5484 [==============================] - 18s 3ms/step - loss: 0.4726 - acc: 0.8348 - val_loss: 0.8769 - val_acc: 0.6754\n",
      "Epoch 6/15\n",
      "5484/5484 [==============================] - 18s 3ms/step - loss: 0.3846 - acc: 0.8621 - val_loss: 0.9642 - val_acc: 0.6827\n",
      "Epoch 7/15\n",
      "5484/5484 [==============================] - 20s 4ms/step - loss: 0.3231 - acc: 0.8926 - val_loss: 1.0527 - val_acc: 0.6805\n",
      "Epoch 8/15\n",
      "5484/5484 [==============================] - 20s 4ms/step - loss: 0.2948 - acc: 0.8973 - val_loss: 1.1139 - val_acc: 0.6776\n",
      "Epoch 9/15\n",
      "5484/5484 [==============================] - 17s 3ms/step - loss: 0.2687 - acc: 0.9043 - val_loss: 1.2528 - val_acc: 0.6820\n",
      "Epoch 10/15\n",
      "5484/5484 [==============================] - 19s 4ms/step - loss: 0.2436 - acc: 0.9150 - val_loss: 1.3109 - val_acc: 0.6747\n",
      "Epoch 11/15\n",
      "5484/5484 [==============================] - 19s 3ms/step - loss: 0.2250 - acc: 0.9218 - val_loss: 1.3109 - val_acc: 0.6703\n",
      "Epoch 12/15\n",
      "5484/5484 [==============================] - 19s 3ms/step - loss: 0.2134 - acc: 0.9243 - val_loss: 1.3973 - val_acc: 0.6667\n",
      "Epoch 13/15\n",
      "5484/5484 [==============================] - 18s 3ms/step - loss: 0.2080 - acc: 0.9267 - val_loss: 1.4635 - val_acc: 0.6637\n",
      "Epoch 14/15\n",
      "5484/5484 [==============================] - 18s 3ms/step - loss: 0.1990 - acc: 0.9254 - val_loss: 1.6045 - val_acc: 0.6791\n",
      "Epoch 15/15\n",
      "5484/5484 [==============================] - 18s 3ms/step - loss: 0.1839 - acc: 0.9340 - val_loss: 1.6125 - val_acc: 0.6689\n"
     ]
    }
   ],
   "source": [
    "results_3 = model_3.fit(X_train, y_train, epochs=15, batch_size=32, validation_split=0.2)"
   ]
  },
  {
   "cell_type": "code",
   "execution_count": 43,
   "metadata": {},
   "outputs": [
    {
     "data": {
      "image/png": "[encoded data removed]",
      "text/plain": [
       "<Figure size 432x288 with 1 Axes>"
      ]
     },
     "metadata": {
      "needs_background": "light"
     },
     "output_type": "display_data"
    },
    {
     "data": {
      "image/png": "[encoded data removed]",
      "text/plain": [
       "<Figure size 432x288 with 1 Axes>"
      ]
     },
     "metadata": {
      "needs_background": "light"
     },
     "output_type": "display_data"
    }
   ],
   "source": [
    "visualize_training_results(results_3)"
   ]
  },
  {
   "cell_type": "markdown",
   "metadata": {},
   "source": [
    "## Model 4"
   ]
  },
  {
   "cell_type": "markdown",
   "metadata": {},
   "source": [
    "Despite being smaller, the previous model didn't stop overfitting. Some more changes were tried.\n",
    "\n",
    "Changing:\n",
    "- Lambda coeff to 0.1 from 0.01\n",
    "- Dropout to 0.4\n",
    "- Batch size to 16"
   ]
  },
  {
   "cell_type": "code",
   "execution_count": 53,
   "metadata": {},
   "outputs": [],
   "source": [
    "model_4 = Sequential()"
   ]
  },
  {
   "cell_type": "code",
   "execution_count": 54,
   "metadata": {},
   "outputs": [],
   "source": [
    "embedding_size = 100\n",
    "lambda_coeff = 0.1\n",
    "model_4.add(Embedding(9398, embedding_size))\n",
    "model_4.add(LSTM(25, return_sequences=True))\n",
    "model_4.add(GlobalMaxPool1D())\n",
    "model_4.add(Dropout(0.4))\n",
    "model_4.add(Dense(50, activation='tanh', kernel_regularizer=regularizers.l2(lambda_coeff)))\n",
    "model_4.add(Dropout(0.4))\n",
    "model_4.add(Dense(3, activation='softmax'))"
   ]
  },
  {
   "cell_type": "code",
   "execution_count": 55,
   "metadata": {},
   "outputs": [],
   "source": [
    "model_4.compile(loss='categorical_crossentropy', \n",
    "                optimizer='adam', \n",
    "                metrics=['accuracy'])"
   ]
  },
  {
   "cell_type": "code",
   "execution_count": 56,
   "metadata": {},
   "outputs": [
    {
     "name": "stdout",
     "output_type": "stream",
     "text": [
      "Train on 5484 samples, validate on 1371 samples\n",
      "Epoch 1/30\n",
      "5484/5484 [==============================] - 33s 6ms/step - loss: 1.7169 - acc: 0.5914 - val_loss: 0.8845 - val_acc: 0.6003\n",
      "Epoch 2/30\n",
      "5484/5484 [==============================] - 33s 6ms/step - loss: 0.8225 - acc: 0.6504 - val_loss: 0.7783 - val_acc: 0.6601\n",
      "Epoch 3/30\n",
      "5484/5484 [==============================] - 33s 6ms/step - loss: 0.6767 - acc: 0.7615 - val_loss: 0.7927 - val_acc: 0.6703\n",
      "Epoch 4/30\n",
      "5484/5484 [==============================] - 34s 6ms/step - loss: 0.5754 - acc: 0.8158 - val_loss: 0.8107 - val_acc: 0.6878\n",
      "Epoch 5/30\n",
      "5484/5484 [==============================] - 33s 6ms/step - loss: 0.5063 - acc: 0.8450 - val_loss: 0.8787 - val_acc: 0.6725\n",
      "Epoch 6/30\n",
      "5484/5484 [==============================] - 34s 6ms/step - loss: 0.4491 - acc: 0.8561 - val_loss: 0.9187 - val_acc: 0.6681\n",
      "Epoch 7/30\n",
      "5484/5484 [==============================] - 39s 7ms/step - loss: 0.3995 - acc: 0.8714 - val_loss: 1.0249 - val_acc: 0.6703\n",
      "Epoch 8/30\n",
      "5484/5484 [==============================] - 36s 7ms/step - loss: 0.3691 - acc: 0.8735 - val_loss: 1.2237 - val_acc: 0.6659\n",
      "Epoch 9/30\n",
      "5484/5484 [==============================] - 35s 6ms/step - loss: 0.3342 - acc: 0.8775 - val_loss: 1.1920 - val_acc: 0.6718\n",
      "Epoch 10/30\n",
      "5484/5484 [==============================] - 35s 6ms/step - loss: 0.2896 - acc: 0.9015 - val_loss: 1.3087 - val_acc: 0.6820\n",
      "Epoch 11/30\n",
      "5484/5484 [==============================] - 34s 6ms/step - loss: 0.2540 - acc: 0.9201 - val_loss: 1.2679 - val_acc: 0.6710\n",
      "Epoch 12/30\n",
      "5484/5484 [==============================] - 34s 6ms/step - loss: 0.2226 - acc: 0.9318 - val_loss: 1.2214 - val_acc: 0.6718\n",
      "Epoch 13/30\n",
      "5484/5484 [==============================] - 34s 6ms/step - loss: 0.1967 - acc: 0.9411 - val_loss: 1.3109 - val_acc: 0.6630\n",
      "Epoch 14/30\n",
      "5484/5484 [==============================] - 33s 6ms/step - loss: 0.1868 - acc: 0.9418 - val_loss: 1.3680 - val_acc: 0.6623\n",
      "Epoch 15/30\n",
      "5484/5484 [==============================] - 33s 6ms/step - loss: 0.1707 - acc: 0.9491 - val_loss: 1.3995 - val_acc: 0.6689\n",
      "Epoch 16/30\n",
      "5484/5484 [==============================] - 33s 6ms/step - loss: 0.1605 - acc: 0.9509 - val_loss: 1.4561 - val_acc: 0.6601s - loss: \n",
      "Epoch 17/30\n",
      "5484/5484 [==============================] - 33s 6ms/step - loss: 0.1572 - acc: 0.9522 - val_loss: 1.6178 - val_acc: 0.6703\n",
      "Epoch 18/30\n",
      "5484/5484 [==============================] - 33s 6ms/step - loss: 0.1543 - acc: 0.9542 - val_loss: 1.5779 - val_acc: 0.6579\n",
      "Epoch 19/30\n",
      "5484/5484 [==============================] - 33s 6ms/step - loss: 0.1420 - acc: 0.9553 - val_loss: 1.5784 - val_acc: 0.6579\n",
      "Epoch 20/30\n",
      "5484/5484 [==============================] - 33s 6ms/step - loss: 0.1394 - acc: 0.9542 - val_loss: 1.4670 - val_acc: 0.66740.1\n",
      "Epoch 21/30\n",
      "5484/5484 [==============================] - 33s 6ms/step - loss: 0.1334 - acc: 0.9588 - val_loss: 1.4906 - val_acc: 0.6630 loss: \n",
      "Epoch 22/30\n",
      "5484/5484 [==============================] - 33s 6ms/step - loss: 0.1223 - acc: 0.9606 - val_loss: 1.7655 - val_acc: 0.6637\n",
      "Epoch 23/30\n",
      "5484/5484 [==============================] - 33s 6ms/step - loss: 0.1148 - acc: 0.9641 - val_loss: 1.9489 - val_acc: 0.6630\n",
      "Epoch 24/30\n",
      "5484/5484 [==============================] - 35s 6ms/step - loss: 0.1200 - acc: 0.9628 - val_loss: 1.8868 - val_acc: 0.6725\n",
      "Epoch 25/30\n",
      "5484/5484 [==============================] - 36s 7ms/step - loss: 0.1115 - acc: 0.9666 - val_loss: 1.9431 - val_acc: 0.6586\n",
      "Epoch 26/30\n",
      "5484/5484 [==============================] - 35s 6ms/step - loss: 0.1082 - acc: 0.9654 - val_loss: 1.9401 - val_acc: 0.6528\n",
      "Epoch 27/30\n",
      "5484/5484 [==============================] - 34s 6ms/step - loss: 0.0974 - acc: 0.9688 - val_loss: 1.8862 - val_acc: 0.6601\n",
      "Epoch 28/30\n",
      "5484/5484 [==============================] - 35s 6ms/step - loss: 0.1051 - acc: 0.9654 - val_loss: 1.6644 - val_acc: 0.6557\n",
      "Epoch 29/30\n",
      "5484/5484 [==============================] - 35s 6ms/step - loss: 0.1012 - acc: 0.9699 - val_loss: 2.1658 - val_acc: 0.6652\n",
      "Epoch 30/30\n",
      "5484/5484 [==============================] - 35s 6ms/step - loss: 0.0996 - acc: 0.9688 - val_loss: 1.9590 - val_acc: 0.6608\n"
     ]
    }
   ],
   "source": [
    "results_4 = model_4.fit(X_train, y_train, epochs=30, batch_size=16, validation_split=0.2)"
   ]
  },
  {
   "cell_type": "code",
   "execution_count": 57,
   "metadata": {},
   "outputs": [
    {
     "data": {
      "image/png": "[encoded data removed]",
      "text/plain": [
       "<Figure size 432x288 with 1 Axes>"
      ]
     },
     "metadata": {
      "needs_background": "light"
     },
     "output_type": "display_data"
    },
    {
     "data": {
      "image/png": "[encoded data removed]",
      "text/plain": [
       "<Figure size 432x288 with 1 Axes>"
      ]
     },
     "metadata": {
      "needs_background": "light"
     },
     "output_type": "display_data"
    }
   ],
   "source": [
    "visualize_training_results(results_4)"
   ]
  },
  {
   "cell_type": "markdown",
   "metadata": {},
   "source": [
    "## Model 5"
   ]
  },
  {
   "cell_type": "markdown",
   "metadata": {},
   "source": [
    "Changing:\n",
    "- Lambda to 0.0001\n",
    "- Neurons to 200, without dropout first\n",
    "- Relu instead of Tanh"
   ]
  },
  {
   "cell_type": "code",
   "execution_count": 58,
   "metadata": {},
   "outputs": [],
   "source": [
    "model_5 = Sequential()"
   ]
  },
  {
   "cell_type": "code",
   "execution_count": 59,
   "metadata": {},
   "outputs": [],
   "source": [
    "embedding_size = 100\n",
    "lambda_coeff = 0.001\n",
    "model_5.add(Embedding(9398, embedding_size))\n",
    "model_5.add(LSTM(25, return_sequences=True))\n",
    "model_5.add(GlobalMaxPool1D())\n",
    "model_5.add(Dense(200, activation='relu', kernel_regularizer=regularizers.l2(lambda_coeff)))\n",
    "model_5.add(Dense(3, activation='softmax'))"
   ]
  },
  {
   "cell_type": "code",
   "execution_count": 60,
   "metadata": {},
   "outputs": [],
   "source": [
    "model_5.compile(loss='categorical_crossentropy', \n",
    "                optimizer='adam', \n",
    "                metrics=['accuracy'])"
   ]
  },
  {
   "cell_type": "code",
   "execution_count": 61,
   "metadata": {},
   "outputs": [
    {
     "name": "stdout",
     "output_type": "stream",
     "text": [
      "Train on 5484 samples, validate on 1371 samples\n",
      "Epoch 1/15\n",
      "5484/5484 [==============================] - 25s 5ms/step - loss: 0.8680 - acc: 0.6089 - val_loss: 0.7774 - val_acc: 0.6557\n",
      "Epoch 2/15\n",
      "5484/5484 [==============================] - 23s 4ms/step - loss: 0.6778 - acc: 0.7254 - val_loss: 0.7648 - val_acc: 0.6710\n",
      "Epoch 3/15\n",
      "5484/5484 [==============================] - 24s 4ms/step - loss: 0.4919 - acc: 0.8115 - val_loss: 0.7873 - val_acc: 0.6856\n",
      "Epoch 4/15\n",
      "5484/5484 [==============================] - 21s 4ms/step - loss: 0.3609 - acc: 0.8709 - val_loss: 0.9002 - val_acc: 0.6608\n",
      "Epoch 5/15\n",
      "5484/5484 [==============================] - 21s 4ms/step - loss: 0.2784 - acc: 0.9010 - val_loss: 0.9165 - val_acc: 0.6761\n",
      "Epoch 6/15\n",
      "5484/5484 [==============================] - 21s 4ms/step - loss: 0.2261 - acc: 0.9174 - val_loss: 1.0529 - val_acc: 0.6601\n",
      "Epoch 7/15\n",
      "5484/5484 [==============================] - 22s 4ms/step - loss: 0.1954 - acc: 0.9322 - val_loss: 1.1186 - val_acc: 0.6637\n",
      "Epoch 8/15\n",
      "5484/5484 [==============================] - 22s 4ms/step - loss: 0.1667 - acc: 0.9362 - val_loss: 1.1559 - val_acc: 0.6776\n",
      "Epoch 9/15\n",
      "5484/5484 [==============================] - 22s 4ms/step - loss: 0.1530 - acc: 0.9415 - val_loss: 1.2636 - val_acc: 0.6543\n",
      "Epoch 10/15\n",
      "5484/5484 [==============================] - 22s 4ms/step - loss: 0.1369 - acc: 0.9449 - val_loss: 1.2531 - val_acc: 0.6623\n",
      "Epoch 11/15\n",
      "5484/5484 [==============================] - 22s 4ms/step - loss: 0.1287 - acc: 0.9488 - val_loss: 1.4196 - val_acc: 0.6667\n",
      "Epoch 12/15\n",
      "5484/5484 [==============================] - 22s 4ms/step - loss: 0.1211 - acc: 0.9497 - val_loss: 1.4269 - val_acc: 0.6528\n",
      "Epoch 13/15\n",
      "5484/5484 [==============================] - 22s 4ms/step - loss: 0.1113 - acc: 0.9535 - val_loss: 1.4335 - val_acc: 0.6375\n",
      "Epoch 14/15\n",
      "5484/5484 [==============================] - 24s 4ms/step - loss: 0.1051 - acc: 0.9566 - val_loss: 1.5891 - val_acc: 0.6506\n",
      "Epoch 15/15\n",
      "5484/5484 [==============================] - 24s 4ms/step - loss: 0.0951 - acc: 0.9624 - val_loss: 1.7504 - val_acc: 0.6623\n"
     ]
    }
   ],
   "source": [
    "results_5 = model_5.fit(X_train, y_train, epochs=15, batch_size=30, validation_split=0.2)"
   ]
  },
  {
   "cell_type": "code",
   "execution_count": 62,
   "metadata": {},
   "outputs": [
    {
     "data": {
      "image/png": "[encoded data removed]",
      "text/plain": [
       "<Figure size 432x288 with 1 Axes>"
      ]
     },
     "metadata": {
      "needs_background": "light"
     },
     "output_type": "display_data"
    },
    {
     "data": {
      "image/png": "[encoded data removed]",
      "text/plain": [
       "<Figure size 432x288 with 1 Axes>"
      ]
     },
     "metadata": {
      "needs_background": "light"
     },
     "output_type": "display_data"
    }
   ],
   "source": [
    "visualize_training_results(results_5)"
   ]
  },
  {
   "cell_type": "markdown",
   "metadata": {},
   "source": [
    "## Model 6"
   ]
  },
  {
   "cell_type": "markdown",
   "metadata": {},
   "source": [
    "Again, the overfitting was not really affected much at all.\n",
    "\n",
    "Changes:\n",
    "- Removed the large, regularized Dense layer altogether"
   ]
  },
  {
   "cell_type": "code",
   "execution_count": 63,
   "metadata": {},
   "outputs": [],
   "source": [
    "model_6 = Sequential()"
   ]
  },
  {
   "cell_type": "code",
   "execution_count": 64,
   "metadata": {},
   "outputs": [],
   "source": [
    "embedding_size = 100\n",
    "model_6.add(Embedding(9398, embedding_size))\n",
    "model_6.add(LSTM(25, return_sequences=True))\n",
    "model_6.add(GlobalMaxPool1D())\n",
    "model_6.add(Dense(3, activation='softmax'))"
   ]
  },
  {
   "cell_type": "code",
   "execution_count": 65,
   "metadata": {},
   "outputs": [],
   "source": [
    "model_6.compile(loss='categorical_crossentropy', \n",
    "                optimizer='adam', \n",
    "                metrics=['accuracy'])"
   ]
  },
  {
   "cell_type": "code",
   "execution_count": 66,
   "metadata": {},
   "outputs": [
    {
     "name": "stdout",
     "output_type": "stream",
     "text": [
      "Train on 5484 samples, validate on 1371 samples\n",
      "Epoch 1/15\n",
      "5484/5484 [==============================] - 25s 5ms/step - loss: 0.8637 - acc: 0.5963 - val_loss: 0.8139 - val_acc: 0.6003\n",
      "Epoch 2/15\n",
      "5484/5484 [==============================] - 23s 4ms/step - loss: 0.7599 - acc: 0.6772 - val_loss: 0.7508 - val_acc: 0.6630\n",
      "Epoch 3/15\n",
      "5484/5484 [==============================] - 22s 4ms/step - loss: 0.6069 - acc: 0.7834 - val_loss: 0.7427 - val_acc: 0.6703\n",
      "Epoch 4/15\n",
      "5484/5484 [==============================] - 22s 4ms/step - loss: 0.4615 - acc: 0.8381 - val_loss: 0.7676 - val_acc: 0.6907\n",
      "Epoch 5/15\n",
      "5484/5484 [==============================] - 22s 4ms/step - loss: 0.3575 - acc: 0.8811 - val_loss: 0.8158 - val_acc: 0.6761\n",
      "Epoch 6/15\n",
      "5484/5484 [==============================] - 22s 4ms/step - loss: 0.2896 - acc: 0.9048 - val_loss: 0.8932 - val_acc: 0.6674\n",
      "Epoch 7/15\n",
      "5484/5484 [==============================] - 22s 4ms/step - loss: 0.2471 - acc: 0.9130 - val_loss: 0.9336 - val_acc: 0.6710\n",
      "Epoch 8/15\n",
      "5484/5484 [==============================] - 26s 5ms/step - loss: 0.2112 - acc: 0.9247 - val_loss: 0.9852 - val_acc: 0.6776\n",
      "Epoch 9/15\n",
      "5484/5484 [==============================] - 24s 4ms/step - loss: 0.1884 - acc: 0.9298 - val_loss: 1.0265 - val_acc: 0.6696\n",
      "Epoch 10/15\n",
      "5484/5484 [==============================] - 23s 4ms/step - loss: 0.1700 - acc: 0.9327 - val_loss: 1.0531 - val_acc: 0.6667\n",
      "Epoch 11/15\n",
      "5484/5484 [==============================] - 26s 5ms/step - loss: 0.1547 - acc: 0.9373 - val_loss: 1.1276 - val_acc: 0.6718\n",
      "Epoch 12/15\n",
      "5484/5484 [==============================] - 28s 5ms/step - loss: 0.1464 - acc: 0.9402 - val_loss: 1.1706 - val_acc: 0.6681\n",
      "Epoch 13/15\n",
      "5484/5484 [==============================] - 26s 5ms/step - loss: 0.1374 - acc: 0.9409 - val_loss: 1.2019 - val_acc: 0.6550\n",
      "Epoch 14/15\n",
      "5484/5484 [==============================] - 34s 6ms/step - loss: 0.1294 - acc: 0.9453 - val_loss: 1.2744 - val_acc: 0.6535\n",
      "Epoch 15/15\n",
      "5484/5484 [==============================] - 28s 5ms/step - loss: 0.1240 - acc: 0.9471 - val_loss: 1.2672 - val_acc: 0.6616\n"
     ]
    }
   ],
   "source": [
    "results_6 = model_6.fit(X_train, y_train, epochs=15, batch_size=30, validation_split=0.2)"
   ]
  },
  {
   "cell_type": "code",
   "execution_count": 68,
   "metadata": {},
   "outputs": [
    {
     "data": {
      "image/png": "[encoded data removed]",
      "text/plain": [
       "<Figure size 432x288 with 1 Axes>"
      ]
     },
     "metadata": {
      "needs_background": "light"
     },
     "output_type": "display_data"
    },
    {
     "data": {
      "image/png": "[encoded data removed]",
      "text/plain": [
       "<Figure size 432x288 with 1 Axes>"
      ]
     },
     "metadata": {
      "needs_background": "light"
     },
     "output_type": "display_data"
    }
   ],
   "source": [
    "visualize_training_results(results_6)"
   ]
  },
  {
   "cell_type": "markdown",
   "metadata": {},
   "source": [
    "## Model 7"
   ]
  },
  {
   "cell_type": "markdown",
   "metadata": {},
   "source": [
    "Again, almost no change was seen, despite the drastic shift in architecture. My current goal here is to end this  disparity between acc and val_acc.\n",
    "\n",
    "Changes:\n",
    "- Using RMSprop optimizer\n",
    "- Validation lowered to 0.1\n",
    "- Removed final dropout layer\n",
    "- Cut Dense layer size in half to 25"
   ]
  },
  {
   "cell_type": "code",
   "execution_count": 87,
   "metadata": {},
   "outputs": [],
   "source": [
    "from keras.optimizers import RMSprop"
   ]
  },
  {
   "cell_type": "code",
   "execution_count": 88,
   "metadata": {},
   "outputs": [],
   "source": [
    "model_7 = Sequential()"
   ]
  },
  {
   "cell_type": "code",
   "execution_count": 89,
   "metadata": {},
   "outputs": [],
   "source": [
    "embedding_size = 100\n",
    "lambda_coeff = 0.1\n",
    "model_7.add(Embedding(9398, embedding_size))\n",
    "model_7.add(LSTM(25, return_sequences=True))\n",
    "model_7.add(GlobalMaxPool1D())\n",
    "model_7.add(Dropout(0.4))\n",
    "model_7.add(Dense(25, activation='tanh', kernel_regularizer=regularizers.l2(lambda_coeff)))\n",
    "model_7.add(Dense(3, activation='softmax'))"
   ]
  },
  {
   "cell_type": "code",
   "execution_count": 91,
   "metadata": {},
   "outputs": [],
   "source": [
    "model_7.compile(loss='categorical_crossentropy', \n",
    "                optimizer='RMSprop',\n",
    "                metrics=['accuracy'])"
   ]
  },
  {
   "cell_type": "code",
   "execution_count": 92,
   "metadata": {},
   "outputs": [
    {
     "name": "stdout",
     "output_type": "stream",
     "text": [
      "Train on 6169 samples, validate on 686 samples\n",
      "Epoch 1/15\n",
      "6169/6169 [==============================] - 33s 5ms/step - loss: 1.8135 - acc: 0.5965 - val_loss: 1.0361 - val_acc: 0.6195\n",
      "Epoch 2/15\n",
      "6169/6169 [==============================] - 31s 5ms/step - loss: 0.8772 - acc: 0.6392 - val_loss: 0.7864 - val_acc: 0.6691\n",
      "Epoch 3/15\n",
      "6169/6169 [==============================] - 32s 5ms/step - loss: 0.7470 - acc: 0.7145 - val_loss: 0.7759 - val_acc: 0.6574\n",
      "Epoch 4/15\n",
      "6169/6169 [==============================] - 32s 5ms/step - loss: 0.6835 - acc: 0.7486 - val_loss: 0.8543 - val_acc: 0.6181\n",
      "Epoch 5/15\n",
      "6169/6169 [==============================] - 32s 5ms/step - loss: 0.6352 - acc: 0.7706 - val_loss: 0.7597 - val_acc: 0.6778\n",
      "Epoch 6/15\n",
      "6169/6169 [==============================] - 32s 5ms/step - loss: 0.6086 - acc: 0.7883 - val_loss: 0.7596 - val_acc: 0.6953\n",
      "Epoch 7/15\n",
      "6169/6169 [==============================] - 31s 5ms/step - loss: 0.5815 - acc: 0.7967 - val_loss: 0.7476 - val_acc: 0.6910\n",
      "Epoch 8/15\n",
      "6169/6169 [==============================] - 32s 5ms/step - loss: 0.5626 - acc: 0.8016 - val_loss: 0.7916 - val_acc: 0.6837\n",
      "Epoch 9/15\n",
      "6169/6169 [==============================] - 32s 5ms/step - loss: 0.5398 - acc: 0.8142 - val_loss: 0.7765 - val_acc: 0.6953\n",
      "Epoch 10/15\n",
      "6169/6169 [==============================] - 32s 5ms/step - loss: 0.5266 - acc: 0.8170 - val_loss: 0.7974 - val_acc: 0.6764\n",
      "Epoch 11/15\n",
      "6169/6169 [==============================] - 31s 5ms/step - loss: 0.5106 - acc: 0.8235 - val_loss: 0.7967 - val_acc: 0.7026\n",
      "Epoch 12/15\n",
      "6169/6169 [==============================] - 32s 5ms/step - loss: 0.5056 - acc: 0.8266 - val_loss: 0.7889 - val_acc: 0.7026\n",
      "Epoch 13/15\n",
      "6169/6169 [==============================] - 32s 5ms/step - loss: 0.4963 - acc: 0.8304 - val_loss: 0.8092 - val_acc: 0.6983\n",
      "Epoch 14/15\n",
      "6169/6169 [==============================] - 32s 5ms/step - loss: 0.4797 - acc: 0.8350 - val_loss: 0.8555 - val_acc: 0.6764\n",
      "Epoch 15/15\n",
      "6169/6169 [==============================] - 31s 5ms/step - loss: 0.4760 - acc: 0.8398 - val_loss: 0.8247 - val_acc: 0.7041\n"
     ]
    }
   ],
   "source": [
    "results_7 = model_7.fit(X_train, y_train, epochs=15, batch_size=30, validation_split=0.1)"
   ]
  },
  {
   "cell_type": "code",
   "execution_count": 93,
   "metadata": {},
   "outputs": [
    {
     "data": {
      "image/png": "[encoded data removed]",
      "text/plain": [
       "<Figure size 432x288 with 1 Axes>"
      ]
     },
     "metadata": {
      "needs_background": "light"
     },
     "output_type": "display_data"
    },
    {
     "data": {
      "image/png": "[encoded data removed]",
      "text/plain": [
       "<Figure size 432x288 with 1 Axes>"
      ]
     },
     "metadata": {
      "needs_background": "light"
     },
     "output_type": "display_data"
    }
   ],
   "source": [
    "visualize_training_results(results_7)"
   ]
  },
  {
   "cell_type": "markdown",
   "metadata": {},
   "source": [
    "# Model Summaries"
   ]
  },
  {
   "cell_type": "markdown",
   "metadata": {},
   "source": [
    "Despite numerous attempts at changed architectures, these models had quite similar performances, with the last being the ***least*** overfit. It had the highest final validation accuracy, clocking in at **70.41%.** It also had the lowest validation loss at **82.47** (which honestly is not impressive). The training accuracy was actually the lowest at **83.98%,** and training loss was the highest at **47.60%.** In other words, this model did the ***absolute worst on the training data. But,*** it did do the **best** on the validation data. Apples and oranges.\n",
    "\n",
    "In an ideal world, I would have started with RMSProp and spent my time tuning and training this model. And if I had more time, that's what I'd be doing now. I'm certain that when I return to this dataset, I'll be able to make a really tight, predictively-strong model off this new baseline architecture.\n",
    "\n",
    "Nonetheless, I humbly announce **Model 7** as the somewhat-disappointing winner, provided you want accuracy on validation and test data, and I don't know why you wouldn't."
   ]
  }
 ],
 "metadata": {
  "kernelspec": {
   "display_name": "Python [conda env:learn-env] *",
   "language": "python",
   "name": "conda-env-learn-env-py"
  },
  "language_info": {
   "codemirror_mode": {
    "name": "ipython",
    "version": 3
   },
   "file_extension": ".py",
   "mimetype": "text/x-python",
   "name": "python",
   "nbconvert_exporter": "python",
   "pygments_lexer": "ipython3",
   "version": "3.6.9"
  },
  "toc": {
   "base_numbering": 1,
   "nav_menu": {},
   "number_sections": true,
   "sideBar": true,
   "skip_h1_title": false,
   "title_cell": "Table of Contents",
   "title_sidebar": "Contents",
   "toc_cell": false,
   "toc_position": {},
   "toc_section_display": true,
   "toc_window_display": false
  },
  "varInspector": {
   "cols": {
    "lenName": 16,
    "lenType": 16,
    "lenVar": 40
   },
   "kernels_config": {
    "python": {
     "delete_cmd_postfix": "",
     "delete_cmd_prefix": "del ",
     "library": "var_list.py",
     "varRefreshCmd": "print(var_dic_list())"
    },
    "r": {
     "delete_cmd_postfix": ") ",
     "delete_cmd_prefix": "rm(",
     "library": "var_list.r",
     "varRefreshCmd": "cat(var_dic_list()) "
    }
   },
   "types_to_exclude": [
    "module",
    "function",
    "builtin_function_or_method",
    "instance",
    "_Feature"
   ],
   "window_display": false
  }
 },
 "nbformat": 4,
 "nbformat_minor": 2
}
