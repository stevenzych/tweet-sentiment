{
 "cells": [
  {
   "cell_type": "markdown",
   "metadata": {},
   "source": [
    "# Introduction"
   ]
  },
  {
   "cell_type": "markdown",
   "metadata": {},
   "source": [
    "This notebook aims to get the lemmatized and stemmed datasets actually into an ML model."
   ]
  },
  {
   "cell_type": "markdown",
   "metadata": {},
   "source": [
    "## Packages"
   ]
  },
  {
   "cell_type": "code",
   "execution_count": 8,
   "metadata": {},
   "outputs": [],
   "source": [
    "import pandas as pd\n",
    "pd.set_option(\"max_columns\", None)\n",
    "\n",
    "import numpy as np\n",
    "np.random.seed(0)\n",
    "\n",
    "import nltk\n",
    "from nltk.corpus import stopwords\n",
    "stop_words = stopwords.words('english')\n",
    "\n",
    "import re\n",
    "\n",
    "import string\n",
    "\n",
    "from gensim.models import Word2Vec"
   ]
  },
  {
   "cell_type": "markdown",
   "metadata": {},
   "source": [
    "## Importing Data"
   ]
  },
  {
   "cell_type": "code",
   "execution_count": 101,
   "metadata": {},
   "outputs": [],
   "source": [
    "df_lemma = pd.read_csv('data/df_lemma.csv')\n",
    "df_stem = pd.read_csv('data/df_stem.csv')\n",
    "df_clean = pd.read_csv('data/df_clean.csv')"
   ]
  },
  {
   "cell_type": "code",
   "execution_count": 102,
   "metadata": {},
   "outputs": [],
   "source": [
    "df_lemma.drop(\"Unnamed: 0\", axis=1, inplace=True)\n",
    "df_stem.drop(\"Unnamed: 0\", axis=1, inplace=True)\n",
    "df_clean.drop(\"Unnamed: 0\", axis=1, inplace=True)"
   ]
  },
  {
   "cell_type": "code",
   "execution_count": 108,
   "metadata": {},
   "outputs": [
    {
     "data": {
      "text/plain": [
       "['[',\n",
       " \"'\",\n",
       " '3',\n",
       " 'g',\n",
       " \"'\",\n",
       " ',',\n",
       " ' ',\n",
       " \"'\",\n",
       " 'i',\n",
       " 'p',\n",
       " 'h',\n",
       " 'o',\n",
       " 'n',\n",
       " 'e',\n",
       " \"'\",\n",
       " ',',\n",
       " ' ',\n",
       " \"'\",\n",
       " '3',\n",
       " \"'\",\n",
       " ',',\n",
       " ' ',\n",
       " \"'\",\n",
       " 'h',\n",
       " 'r',\n",
       " 's',\n",
       " \"'\",\n",
       " ',',\n",
       " ' ',\n",
       " \"'\",\n",
       " 't',\n",
       " 'w',\n",
       " 'e',\n",
       " 'e',\n",
       " 't',\n",
       " 'i',\n",
       " 'n',\n",
       " 'g',\n",
       " \"'\",\n",
       " ',',\n",
       " ' ',\n",
       " \"'\",\n",
       " 'd',\n",
       " 'e',\n",
       " 'a',\n",
       " 'd',\n",
       " \"'\",\n",
       " ',',\n",
       " ' ',\n",
       " \"'\",\n",
       " 'n',\n",
       " 'e',\n",
       " 'e',\n",
       " 'd',\n",
       " \"'\",\n",
       " ',',\n",
       " ' ',\n",
       " \"'\",\n",
       " 'u',\n",
       " 'p',\n",
       " 'g',\n",
       " 'r',\n",
       " 'a',\n",
       " 'd',\n",
       " 'e',\n",
       " \"'\",\n",
       " ',',\n",
       " ' ',\n",
       " \"'\",\n",
       " 'p',\n",
       " 'l',\n",
       " 'u',\n",
       " 'g',\n",
       " 'i',\n",
       " 'n',\n",
       " \"'\",\n",
       " ',',\n",
       " ' ',\n",
       " \"'\",\n",
       " 's',\n",
       " 't',\n",
       " 'a',\n",
       " 't',\n",
       " 'i',\n",
       " 'o',\n",
       " 'n',\n",
       " 's',\n",
       " \"'\",\n",
       " ']']"
      ]
     },
     "execution_count": 108,
     "metadata": {},
     "output_type": "execute_result"
    }
   ],
   "source": [
    "list(df_clean.text[0])"
   ]
  },
  {
   "cell_type": "markdown",
   "metadata": {},
   "source": [
    "# Trying To Get A Model Working"
   ]
  },
  {
   "cell_type": "code",
   "execution_count": 97,
   "metadata": {},
   "outputs": [],
   "source": [
    "model = Word2Vec(sentences=df_stem.text, size=100, window=3, min_count=1)"
   ]
  },
  {
   "cell_type": "code",
   "execution_count": 100,
   "metadata": {},
   "outputs": [
    {
     "data": {
      "text/plain": [
       "8720"
      ]
     },
     "execution_count": 100,
     "metadata": {},
     "output_type": "execute_result"
    }
   ],
   "source": [
    "model.corpus_count"
   ]
  },
  {
   "cell_type": "code",
   "execution_count": 98,
   "metadata": {},
   "outputs": [
    {
     "data": {
      "text/plain": [
       "(1425272, 7553100)"
      ]
     },
     "execution_count": 98,
     "metadata": {},
     "output_type": "execute_result"
    }
   ],
   "source": [
    "model.train(sentences=df_stem.text, total_examples=model.corpus_count, epochs=10)"
   ]
  },
  {
   "cell_type": "code",
   "execution_count": 99,
   "metadata": {},
   "outputs": [
    {
     "data": {
      "text/plain": [
       "{'[': <gensim.models.keyedvectors.Vocab at 0x13c9d388470>,\n",
       " \"'\": <gensim.models.keyedvectors.Vocab at 0x13c9c651b00>,\n",
       " '3': <gensim.models.keyedvectors.Vocab at 0x13c9c651d30>,\n",
       " 'g': <gensim.models.keyedvectors.Vocab at 0x13c9c651550>,\n",
       " ',': <gensim.models.keyedvectors.Vocab at 0x13c9c651278>,\n",
       " ' ': <gensim.models.keyedvectors.Vocab at 0x13c9c651be0>,\n",
       " 'i': <gensim.models.keyedvectors.Vocab at 0x13c9c651a90>,\n",
       " 'p': <gensim.models.keyedvectors.Vocab at 0x13c9c651da0>,\n",
       " 'h': <gensim.models.keyedvectors.Vocab at 0x13c9c6511d0>,\n",
       " 'o': <gensim.models.keyedvectors.Vocab at 0x13c9c651cc0>,\n",
       " 'n': <gensim.models.keyedvectors.Vocab at 0x13c9c651e48>,\n",
       " 'r': <gensim.models.keyedvectors.Vocab at 0x13c9c651240>,\n",
       " 't': <gensim.models.keyedvectors.Vocab at 0x13c9c651780>,\n",
       " 'w': <gensim.models.keyedvectors.Vocab at 0x13c9c651ac8>,\n",
       " 'e': <gensim.models.keyedvectors.Vocab at 0x13c9c6510b8>,\n",
       " 'd': <gensim.models.keyedvectors.Vocab at 0x13c9c651978>,\n",
       " 'a': <gensim.models.keyedvectors.Vocab at 0x13c9c651c50>,\n",
       " 'u': <gensim.models.keyedvectors.Vocab at 0x13c9c651518>,\n",
       " 'l': <gensim.models.keyedvectors.Vocab at 0x13c9c6514e0>,\n",
       " 's': <gensim.models.keyedvectors.Vocab at 0x13c9c651b70>,\n",
       " ']': <gensim.models.keyedvectors.Vocab at 0x13c9c651a20>,\n",
       " 'k': <gensim.models.keyedvectors.Vocab at 0x13c9c651940>,\n",
       " 'm': <gensim.models.keyedvectors.Vocab at 0x13c9c651ef0>,\n",
       " 'y': <gensim.models.keyedvectors.Vocab at 0x13c9c651f28>,\n",
       " 'c': <gensim.models.keyedvectors.Vocab at 0x13c9c651198>,\n",
       " 'v': <gensim.models.keyedvectors.Vocab at 0x13c9c6514a8>,\n",
       " 'f': <gensim.models.keyedvectors.Vocab at 0x13c9c651898>,\n",
       " '2': <gensim.models.keyedvectors.Vocab at 0x13c9c6519e8>,\n",
       " 'b': <gensim.models.keyedvectors.Vocab at 0x13c9c651828>,\n",
       " 'j': <gensim.models.keyedvectors.Vocab at 0x13c9c651128>,\n",
       " 'x': <gensim.models.keyedvectors.Vocab at 0x13c9c651390>,\n",
       " '1': <gensim.models.keyedvectors.Vocab at 0x13c9c6513c8>,\n",
       " 'q': <gensim.models.keyedvectors.Vocab at 0x13c9c6512b0>,\n",
       " '0': <gensim.models.keyedvectors.Vocab at 0x13c9c651668>,\n",
       " 'z': <gensim.models.keyedvectors.Vocab at 0x13c9c6516d8>,\n",
       " '�': <gensim.models.keyedvectors.Vocab at 0x13c9c6518d0>,\n",
       " '۪': <gensim.models.keyedvectors.Vocab at 0x13c9c651320>,\n",
       " '4': <gensim.models.keyedvectors.Vocab at 0x13c96486048>,\n",
       " '7': <gensim.models.keyedvectors.Vocab at 0x13c96486208>,\n",
       " '5': <gensim.models.keyedvectors.Vocab at 0x13c9c679e10>,\n",
       " '6': <gensim.models.keyedvectors.Vocab at 0x13c9c679588>,\n",
       " '8': <gensim.models.keyedvectors.Vocab at 0x13c9c6797f0>,\n",
       " '\\\\': <gensim.models.keyedvectors.Vocab at 0x13c9c679828>,\n",
       " '9': <gensim.models.keyedvectors.Vocab at 0x13c9c679240>,\n",
       " 'ۢ': <gensim.models.keyedvectors.Vocab at 0x13c9c679908>,\n",
       " '̩': <gensim.models.keyedvectors.Vocab at 0x13c9c679748>,\n",
       " 'ۄ': <gensim.models.keyedvectors.Vocab at 0x13c9c6793c8>,\n",
       " 'ہ': <gensim.models.keyedvectors.Vocab at 0x13c9c679940>,\n",
       " '⏋': <gensim.models.keyedvectors.Vocab at 0x13c9c679cf8>,\n",
       " '܋': <gensim.models.keyedvectors.Vocab at 0x13c9c679ac8>,\n",
       " '㋁': <gensim.models.keyedvectors.Vocab at 0x13c9c679128>,\n",
       " '⻋': <gensim.models.keyedvectors.Vocab at 0x13c9c679278>,\n",
       " 'ġ': <gensim.models.keyedvectors.Vocab at 0x13c9c6794a8>,\n",
       " '⣋': <gensim.models.keyedvectors.Vocab at 0x13c9c679550>,\n",
       " 'ǐ': <gensim.models.keyedvectors.Vocab at 0x13c9c679860>,\n",
       " 'ً': <gensim.models.keyedvectors.Vocab at 0x13c9c6794e0>,\n",
       " 'ԋ': <gensim.models.keyedvectors.Vocab at 0x13c9c679a90>,\n",
       " '̤': <gensim.models.keyedvectors.Vocab at 0x13c9c6798d0>,\n",
       " 'ξ': <gensim.models.keyedvectors.Vocab at 0x13c9c679898>,\n",
       " 'с': <gensim.models.keyedvectors.Vocab at 0x13c9c679780>,\n",
       " 'ԍ': <gensim.models.keyedvectors.Vocab at 0x13c9c679c50>,\n",
       " 'ύ': <gensim.models.keyedvectors.Vocab at 0x13c9c6796d8>,\n",
       " 'ݍ': <gensim.models.keyedvectors.Vocab at 0x13c9c6799e8>,\n",
       " '܊': <gensim.models.keyedvectors.Vocab at 0x13c9c5b3b00>,\n",
       " 'ۼ': <gensim.models.keyedvectors.Vocab at 0x13c9c5b37f0>,\n",
       " '嫉': <gensim.models.keyedvectors.Vocab at 0x13c9c5b3ef0>,\n",
       " 'ـ': <gensim.models.keyedvectors.Vocab at 0x13c9c5b3a58>,\n",
       " 'ϡ': <gensim.models.keyedvectors.Vocab at 0x13c9c5b36d8>,\n",
       " 'ʋ': <gensim.models.keyedvectors.Vocab at 0x13c9c5b3c88>,\n",
       " 'ҋ': <gensim.models.keyedvectors.Vocab at 0x13c9c5b3438>,\n",
       " '⋁': <gensim.models.keyedvectors.Vocab at 0x13c9d53e048>}"
      ]
     },
     "execution_count": 99,
     "metadata": {},
     "output_type": "execute_result"
    }
   ],
   "source": [
    "model.wv.vocab"
   ]
  },
  {
   "cell_type": "code",
   "execution_count": 79,
   "metadata": {},
   "outputs": [
    {
     "data": {
      "text/plain": [
       "[('n', 0.17944902181625366),\n",
       " ('o', -0.03858713060617447),\n",
       " ('i', -0.04583699628710747),\n",
       " ('t', -0.04689285159111023),\n",
       " ('m', -0.08473831415176392)]"
      ]
     },
     "execution_count": 79,
     "metadata": {},
     "output_type": "execute_result"
    }
   ],
   "source": [
    "wv.most_similar('e')"
   ]
  },
  {
   "cell_type": "markdown",
   "metadata": {},
   "source": [
    "# Total Vocabulary"
   ]
  },
  {
   "cell_type": "code",
   "execution_count": null,
   "metadata": {},
   "outputs": [],
   "source": [
    "# target = df['category']\n",
    "# df['combined_text'] = df['headline'] + ' ' + df['short_description']\n",
    "# data = df['combined_text'].map(word_tokenize).values\n",
    "\n",
    "# total_vocabulary = set(word for headline in data for word in headline)"
   ]
  },
  {
   "cell_type": "code",
   "execution_count": 40,
   "metadata": {},
   "outputs": [],
   "source": [
    "stem_vocab = set(x for x in df_stem.text)"
   ]
  },
  {
   "cell_type": "code",
   "execution_count": 43,
   "metadata": {},
   "outputs": [
    {
     "data": {
      "text/plain": [
       "{'emotion'}"
      ]
     },
     "execution_count": 43,
     "metadata": {},
     "output_type": "execute_result"
    }
   ],
   "source": [
    "# Doesn't work :(\n",
    "stem_vocab"
   ]
  },
  {
   "cell_type": "code",
   "execution_count": null,
   "metadata": {},
   "outputs": [],
   "source": []
  }
 ],
 "metadata": {
  "kernelspec": {
   "display_name": "Python [conda env:learn-env] *",
   "language": "python",
   "name": "conda-env-learn-env-py"
  },
  "language_info": {
   "codemirror_mode": {
    "name": "ipython",
    "version": 3
   },
   "file_extension": ".py",
   "mimetype": "text/x-python",
   "name": "python",
   "nbconvert_exporter": "python",
   "pygments_lexer": "ipython3",
   "version": "3.6.9"
  },
  "toc": {
   "base_numbering": 1,
   "nav_menu": {},
   "number_sections": true,
   "sideBar": true,
   "skip_h1_title": false,
   "title_cell": "Table of Contents",
   "title_sidebar": "Contents",
   "toc_cell": false,
   "toc_position": {},
   "toc_section_display": true,
   "toc_window_display": false
  },
  "varInspector": {
   "cols": {
    "lenName": 16,
    "lenType": 16,
    "lenVar": 40
   },
   "kernels_config": {
    "python": {
     "delete_cmd_postfix": "",
     "delete_cmd_prefix": "del ",
     "library": "var_list.py",
     "varRefreshCmd": "print(var_dic_list())"
    },
    "r": {
     "delete_cmd_postfix": ") ",
     "delete_cmd_prefix": "rm(",
     "library": "var_list.r",
     "varRefreshCmd": "cat(var_dic_list()) "
    }
   },
   "types_to_exclude": [
    "module",
    "function",
    "builtin_function_or_method",
    "instance",
    "_Feature"
   ],
   "window_display": false
  }
 },
 "nbformat": 4,
 "nbformat_minor": 2
}
